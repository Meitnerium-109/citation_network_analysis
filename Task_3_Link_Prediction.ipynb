{
  "nbformat": 4,
  "nbformat_minor": 0,
  "metadata": {
    "colab": {
      "provenance": [],
      "authorship_tag": "ABX9TyMFYfM8IDhB7qJSyfxwXRb3",
      "include_colab_link": true
    },
    "kernelspec": {
      "name": "python3",
      "display_name": "Python 3"
    },
    "language_info": {
      "name": "python"
    },
    "widgets": {
      "application/vnd.jupyter.widget-state+json": {
        "4669dee89ccb446db715bec043b51763": {
          "model_module": "@jupyter-widgets/controls",
          "model_name": "HBoxModel",
          "model_module_version": "1.5.0",
          "state": {
            "_dom_classes": [],
            "_model_module": "@jupyter-widgets/controls",
            "_model_module_version": "1.5.0",
            "_model_name": "HBoxModel",
            "_view_count": null,
            "_view_module": "@jupyter-widgets/controls",
            "_view_module_version": "1.5.0",
            "_view_name": "HBoxView",
            "box_style": "",
            "children": [
              "IPY_MODEL_e412d229e53e4c78b97e286b3bc13f6a",
              "IPY_MODEL_4cdf1b0a4b3441b795a28a86ee41d503",
              "IPY_MODEL_187ca55c50934416b522c3cc1051baf0"
            ],
            "layout": "IPY_MODEL_f4c4916eb26c4b30b6386d8d9e83f87e"
          }
        },
        "e412d229e53e4c78b97e286b3bc13f6a": {
          "model_module": "@jupyter-widgets/controls",
          "model_name": "HTMLModel",
          "model_module_version": "1.5.0",
          "state": {
            "_dom_classes": [],
            "_model_module": "@jupyter-widgets/controls",
            "_model_module_version": "1.5.0",
            "_model_name": "HTMLModel",
            "_view_count": null,
            "_view_module": "@jupyter-widgets/controls",
            "_view_module_version": "1.5.0",
            "_view_name": "HTMLView",
            "description": "",
            "description_tooltip": null,
            "layout": "IPY_MODEL_7a2a3d52f9dc415783caf7c1f0bf2500",
            "placeholder": "​",
            "style": "IPY_MODEL_6ad20a46a58a477681e407a6cdd69579",
            "value": "Computing transition probabilities: 100%"
          }
        },
        "4cdf1b0a4b3441b795a28a86ee41d503": {
          "model_module": "@jupyter-widgets/controls",
          "model_name": "FloatProgressModel",
          "model_module_version": "1.5.0",
          "state": {
            "_dom_classes": [],
            "_model_module": "@jupyter-widgets/controls",
            "_model_module_version": "1.5.0",
            "_model_name": "FloatProgressModel",
            "_view_count": null,
            "_view_module": "@jupyter-widgets/controls",
            "_view_module_version": "1.5.0",
            "_view_name": "ProgressView",
            "bar_style": "success",
            "description": "",
            "description_tooltip": null,
            "layout": "IPY_MODEL_2e50750598a2456993dfec188975cc1d",
            "max": 25638,
            "min": 0,
            "orientation": "horizontal",
            "style": "IPY_MODEL_c8b5d8725f5f4cc89c4c9aea73de5a3c",
            "value": 25638
          }
        },
        "187ca55c50934416b522c3cc1051baf0": {
          "model_module": "@jupyter-widgets/controls",
          "model_name": "HTMLModel",
          "model_module_version": "1.5.0",
          "state": {
            "_dom_classes": [],
            "_model_module": "@jupyter-widgets/controls",
            "_model_module_version": "1.5.0",
            "_model_name": "HTMLModel",
            "_view_count": null,
            "_view_module": "@jupyter-widgets/controls",
            "_view_module_version": "1.5.0",
            "_view_name": "HTMLView",
            "description": "",
            "description_tooltip": null,
            "layout": "IPY_MODEL_feee2e207bfc4c7ca59062c3edba331d",
            "placeholder": "​",
            "style": "IPY_MODEL_1ea6b2d4d73d454b8ed6003943b16bdc",
            "value": " 25638/25638 [02:43&lt;00:00, 417.33it/s]"
          }
        },
        "f4c4916eb26c4b30b6386d8d9e83f87e": {
          "model_module": "@jupyter-widgets/base",
          "model_name": "LayoutModel",
          "model_module_version": "1.2.0",
          "state": {
            "_model_module": "@jupyter-widgets/base",
            "_model_module_version": "1.2.0",
            "_model_name": "LayoutModel",
            "_view_count": null,
            "_view_module": "@jupyter-widgets/base",
            "_view_module_version": "1.2.0",
            "_view_name": "LayoutView",
            "align_content": null,
            "align_items": null,
            "align_self": null,
            "border": null,
            "bottom": null,
            "display": null,
            "flex": null,
            "flex_flow": null,
            "grid_area": null,
            "grid_auto_columns": null,
            "grid_auto_flow": null,
            "grid_auto_rows": null,
            "grid_column": null,
            "grid_gap": null,
            "grid_row": null,
            "grid_template_areas": null,
            "grid_template_columns": null,
            "grid_template_rows": null,
            "height": null,
            "justify_content": null,
            "justify_items": null,
            "left": null,
            "margin": null,
            "max_height": null,
            "max_width": null,
            "min_height": null,
            "min_width": null,
            "object_fit": null,
            "object_position": null,
            "order": null,
            "overflow": null,
            "overflow_x": null,
            "overflow_y": null,
            "padding": null,
            "right": null,
            "top": null,
            "visibility": null,
            "width": null
          }
        },
        "7a2a3d52f9dc415783caf7c1f0bf2500": {
          "model_module": "@jupyter-widgets/base",
          "model_name": "LayoutModel",
          "model_module_version": "1.2.0",
          "state": {
            "_model_module": "@jupyter-widgets/base",
            "_model_module_version": "1.2.0",
            "_model_name": "LayoutModel",
            "_view_count": null,
            "_view_module": "@jupyter-widgets/base",
            "_view_module_version": "1.2.0",
            "_view_name": "LayoutView",
            "align_content": null,
            "align_items": null,
            "align_self": null,
            "border": null,
            "bottom": null,
            "display": null,
            "flex": null,
            "flex_flow": null,
            "grid_area": null,
            "grid_auto_columns": null,
            "grid_auto_flow": null,
            "grid_auto_rows": null,
            "grid_column": null,
            "grid_gap": null,
            "grid_row": null,
            "grid_template_areas": null,
            "grid_template_columns": null,
            "grid_template_rows": null,
            "height": null,
            "justify_content": null,
            "justify_items": null,
            "left": null,
            "margin": null,
            "max_height": null,
            "max_width": null,
            "min_height": null,
            "min_width": null,
            "object_fit": null,
            "object_position": null,
            "order": null,
            "overflow": null,
            "overflow_x": null,
            "overflow_y": null,
            "padding": null,
            "right": null,
            "top": null,
            "visibility": null,
            "width": null
          }
        },
        "6ad20a46a58a477681e407a6cdd69579": {
          "model_module": "@jupyter-widgets/controls",
          "model_name": "DescriptionStyleModel",
          "model_module_version": "1.5.0",
          "state": {
            "_model_module": "@jupyter-widgets/controls",
            "_model_module_version": "1.5.0",
            "_model_name": "DescriptionStyleModel",
            "_view_count": null,
            "_view_module": "@jupyter-widgets/base",
            "_view_module_version": "1.2.0",
            "_view_name": "StyleView",
            "description_width": ""
          }
        },
        "2e50750598a2456993dfec188975cc1d": {
          "model_module": "@jupyter-widgets/base",
          "model_name": "LayoutModel",
          "model_module_version": "1.2.0",
          "state": {
            "_model_module": "@jupyter-widgets/base",
            "_model_module_version": "1.2.0",
            "_model_name": "LayoutModel",
            "_view_count": null,
            "_view_module": "@jupyter-widgets/base",
            "_view_module_version": "1.2.0",
            "_view_name": "LayoutView",
            "align_content": null,
            "align_items": null,
            "align_self": null,
            "border": null,
            "bottom": null,
            "display": null,
            "flex": null,
            "flex_flow": null,
            "grid_area": null,
            "grid_auto_columns": null,
            "grid_auto_flow": null,
            "grid_auto_rows": null,
            "grid_column": null,
            "grid_gap": null,
            "grid_row": null,
            "grid_template_areas": null,
            "grid_template_columns": null,
            "grid_template_rows": null,
            "height": null,
            "justify_content": null,
            "justify_items": null,
            "left": null,
            "margin": null,
            "max_height": null,
            "max_width": null,
            "min_height": null,
            "min_width": null,
            "object_fit": null,
            "object_position": null,
            "order": null,
            "overflow": null,
            "overflow_x": null,
            "overflow_y": null,
            "padding": null,
            "right": null,
            "top": null,
            "visibility": null,
            "width": null
          }
        },
        "c8b5d8725f5f4cc89c4c9aea73de5a3c": {
          "model_module": "@jupyter-widgets/controls",
          "model_name": "ProgressStyleModel",
          "model_module_version": "1.5.0",
          "state": {
            "_model_module": "@jupyter-widgets/controls",
            "_model_module_version": "1.5.0",
            "_model_name": "ProgressStyleModel",
            "_view_count": null,
            "_view_module": "@jupyter-widgets/base",
            "_view_module_version": "1.2.0",
            "_view_name": "StyleView",
            "bar_color": null,
            "description_width": ""
          }
        },
        "feee2e207bfc4c7ca59062c3edba331d": {
          "model_module": "@jupyter-widgets/base",
          "model_name": "LayoutModel",
          "model_module_version": "1.2.0",
          "state": {
            "_model_module": "@jupyter-widgets/base",
            "_model_module_version": "1.2.0",
            "_model_name": "LayoutModel",
            "_view_count": null,
            "_view_module": "@jupyter-widgets/base",
            "_view_module_version": "1.2.0",
            "_view_name": "LayoutView",
            "align_content": null,
            "align_items": null,
            "align_self": null,
            "border": null,
            "bottom": null,
            "display": null,
            "flex": null,
            "flex_flow": null,
            "grid_area": null,
            "grid_auto_columns": null,
            "grid_auto_flow": null,
            "grid_auto_rows": null,
            "grid_column": null,
            "grid_gap": null,
            "grid_row": null,
            "grid_template_areas": null,
            "grid_template_columns": null,
            "grid_template_rows": null,
            "height": null,
            "justify_content": null,
            "justify_items": null,
            "left": null,
            "margin": null,
            "max_height": null,
            "max_width": null,
            "min_height": null,
            "min_width": null,
            "object_fit": null,
            "object_position": null,
            "order": null,
            "overflow": null,
            "overflow_x": null,
            "overflow_y": null,
            "padding": null,
            "right": null,
            "top": null,
            "visibility": null,
            "width": null
          }
        },
        "1ea6b2d4d73d454b8ed6003943b16bdc": {
          "model_module": "@jupyter-widgets/controls",
          "model_name": "DescriptionStyleModel",
          "model_module_version": "1.5.0",
          "state": {
            "_model_module": "@jupyter-widgets/controls",
            "_model_module_version": "1.5.0",
            "_model_name": "DescriptionStyleModel",
            "_view_count": null,
            "_view_module": "@jupyter-widgets/base",
            "_view_module_version": "1.2.0",
            "_view_name": "StyleView",
            "description_width": ""
          }
        }
      }
    }
  },
  "cells": [
    {
      "cell_type": "markdown",
      "metadata": {
        "id": "view-in-github",
        "colab_type": "text"
      },
      "source": [
        "<a href=\"https://colab.research.google.com/github/Meitnerium-109/citation_network_analysis/blob/main/Task_3_Link_Prediction.ipynb\" target=\"_parent\"><img src=\"https://colab.research.google.com/assets/colab-badge.svg\" alt=\"Open In Colab\"/></a>"
      ]
    },
    {
      "cell_type": "code",
      "execution_count": 2,
      "metadata": {
        "colab": {
          "base_uri": "https://localhost:8080/"
        },
        "id": "9jhTPBDdEMnc",
        "outputId": "1efc7090-8c71-4bee-a1c8-7325f081d9d3"
      },
      "outputs": [
        {
          "output_type": "stream",
          "name": "stdout",
          "text": [
            "Collecting node2vec\n",
            "  Downloading node2vec-0.5.0-py3-none-any.whl.metadata (849 bytes)\n",
            "Requirement already satisfied: gensim<5.0.0,>=4.3.0 in /usr/local/lib/python3.10/dist-packages (from node2vec) (4.3.3)\n",
            "Requirement already satisfied: joblib<2.0.0,>=1.4.0 in /usr/local/lib/python3.10/dist-packages (from node2vec) (1.4.2)\n",
            "Requirement already satisfied: networkx<4.0.0,>=3.1.0 in /usr/local/lib/python3.10/dist-packages (from node2vec) (3.4.2)\n",
            "Requirement already satisfied: numpy<2.0.0,>=1.24.0 in /usr/local/lib/python3.10/dist-packages (from node2vec) (1.26.4)\n",
            "Requirement already satisfied: tqdm<5.0.0,>=4.66.1 in /usr/local/lib/python3.10/dist-packages (from node2vec) (4.67.1)\n",
            "Requirement already satisfied: scipy<1.14.0,>=1.7.0 in /usr/local/lib/python3.10/dist-packages (from gensim<5.0.0,>=4.3.0->node2vec) (1.13.1)\n",
            "Requirement already satisfied: smart-open>=1.8.1 in /usr/local/lib/python3.10/dist-packages (from gensim<5.0.0,>=4.3.0->node2vec) (7.1.0)\n",
            "Requirement already satisfied: wrapt in /usr/local/lib/python3.10/dist-packages (from smart-open>=1.8.1->gensim<5.0.0,>=4.3.0->node2vec) (1.17.0)\n",
            "Downloading node2vec-0.5.0-py3-none-any.whl (7.2 kB)\n",
            "Installing collected packages: node2vec\n",
            "Successfully installed node2vec-0.5.0\n",
            "--2024-12-21 16:38:18--  https://snap.stanford.edu/data/cit-HepPh.txt.gz\n",
            "Resolving snap.stanford.edu (snap.stanford.edu)... 171.64.75.80\n",
            "Connecting to snap.stanford.edu (snap.stanford.edu)|171.64.75.80|:443... connected.\n",
            "HTTP request sent, awaiting response... 200 OK\n",
            "Length: 1664504 (1.6M) [application/x-gzip]\n",
            "Saving to: ‘cit-HepPh.txt.gz’\n",
            "\n",
            "cit-HepPh.txt.gz    100%[===================>]   1.59M  4.34MB/s    in 0.4s    \n",
            "\n",
            "2024-12-21 16:38:19 (4.34 MB/s) - ‘cit-HepPh.txt.gz’ saved [1664504/1664504]\n",
            "\n",
            "--2024-12-21 16:38:19--  https://snap.stanford.edu/data/cit-HepPh-dates.txt.gz\n",
            "Resolving snap.stanford.edu (snap.stanford.edu)... 171.64.75.80\n",
            "Connecting to snap.stanford.edu (snap.stanford.edu)|171.64.75.80|:443... connected.\n",
            "HTTP request sent, awaiting response... 200 OK\n",
            "Length: 96569 (94K) [application/x-gzip]\n",
            "Saving to: ‘cit-HepPh-dates.txt.gz’\n",
            "\n",
            "cit-HepPh-dates.txt 100%[===================>]  94.31K  --.-KB/s    in 0.07s   \n",
            "\n",
            "2024-12-21 16:38:19 (1.27 MB/s) - ‘cit-HepPh-dates.txt.gz’ saved [96569/96569]\n",
            "\n",
            "Total nodes: 34546, Total edges: 421578\n"
          ]
        }
      ],
      "source": [
        "import pandas as pd\n",
        "import networkx as nx\n",
        "import numpy as np\n",
        "import matplotlib.pyplot as plt\n",
        "import random\n",
        "from sklearn.metrics import roc_auc_score\n",
        "\n",
        "\n",
        "import torch\n",
        "import torch.nn as nn\n",
        "import torch.optim as optim\n",
        "\n",
        "!pip install node2vec\n",
        "from node2vec import Node2Vec\n",
        "\n",
        "!wget \"https://snap.stanford.edu/data/cit-HepPh.txt.gz\"\n",
        "!gunzip cit-HepPh.txt.gz\n",
        "!wget \"https://snap.stanford.edu/data/cit-HepPh-dates.txt.gz\"\n",
        "!gunzip cit-HepPh-dates.txt.gz\n",
        "\n",
        "\n",
        "edge_file = 'cit-HepPh.txt'\n",
        "dates_file = 'cit-HepPh-dates.txt'\n",
        "citations = pd.read_csv(edge_file, sep='\\t', comment='#', names=['source','target'])\n",
        "dates = pd.read_csv(dates_file, sep='\\t', names=['node','date'], comment='#')\n",
        "dates['date'] = pd.to_datetime(dates['date'], format='%Y-%m-%d', errors='coerce')\n",
        "\n",
        "\n",
        "G = nx.from_pandas_edgelist(citations, 'source','target', create_using=nx.DiGraph())\n",
        "\n",
        "print(f\"Total nodes: {G.number_of_nodes()}, Total edges: {G.number_of_edges()}\")"
      ]
    },
    {
      "cell_type": "code",
      "source": [
        "T = 2000\n",
        "dates_map = dates.set_index('node')['date'].to_dict()\n",
        "\n",
        "def is_train_edge(u,v):\n",
        "    du = dates_map.get(u, None)\n",
        "    dv = dates_map.get(v, None)\n",
        "    if du and dv:\n",
        "        return (du.year <= T) and (dv.year <= T)\n",
        "    return False\n",
        "\n",
        "G_train = nx.DiGraph()\n",
        "G_test_edges = []\n",
        "\n",
        "for u,v in G.edges():\n",
        "    if is_train_edge(u,v):\n",
        "        G_train.add_edge(u,v)\n",
        "    else:\n",
        "        G_test_edges.append((u,v))\n",
        "\n",
        "print(f\"Training graph edges: {G_train.number_of_edges()}, Test edges: {len(G_test_edges)}\")"
      ],
      "metadata": {
        "colab": {
          "base_uri": "https://localhost:8080/"
        },
        "id": "DkudRiYwEeP4",
        "outputId": "175f143f-55e2-413e-8ad4-1a412de37ea5"
      },
      "execution_count": 3,
      "outputs": [
        {
          "output_type": "stream",
          "name": "stdout",
          "text": [
            "Training graph edges: 263468, Test edges: 158110\n"
          ]
        }
      ]
    },
    {
      "cell_type": "code",
      "source": [
        "\n",
        "train_undirected = G_train.to_undirected()\n",
        "node2vec = Node2Vec(train_undirected, dimensions=64, walk_length=20, num_walks=50, workers=2)\n",
        "n2v_model = node2vec.fit(window=5, min_count=1, batch_words=4)\n",
        "\n",
        "def edge_score(u,v):\n",
        "    if (str(u) in n2v_model.wv) and (str(v) in n2v_model.wv):\n",
        "        return np.dot(n2v_model.wv[str(u)], n2v_model.wv[str(v)])\n",
        "    return 0\n",
        "\n",
        "\n",
        "pos_test = random.sample(G_test_edges, min(5000, len(G_test_edges)))\n",
        "all_nodes = list(G_train.nodes())\n",
        "neg_test = []\n",
        "while len(neg_test) < len(pos_test):\n",
        "    a, b = random.sample(all_nodes, 2)\n",
        "    if not G_train.has_edge(a,b):\n",
        "        neg_test.append((a,b))\n",
        "\n",
        "y_true = [1]*len(pos_test) + [0]*len(neg_test)\n",
        "edges_test = pos_test + neg_test\n",
        "scores = [edge_score(u,v) for (u,v) in edges_test]\n",
        "n2v_auc = roc_auc_score(y_true, scores)\n",
        "print(f\"Node2Vec Test AUC: {n2v_auc:.4f}\")"
      ],
      "metadata": {
        "colab": {
          "base_uri": "https://localhost:8080/",
          "height": 66,
          "referenced_widgets": [
            "4669dee89ccb446db715bec043b51763",
            "e412d229e53e4c78b97e286b3bc13f6a",
            "4cdf1b0a4b3441b795a28a86ee41d503",
            "187ca55c50934416b522c3cc1051baf0",
            "f4c4916eb26c4b30b6386d8d9e83f87e",
            "7a2a3d52f9dc415783caf7c1f0bf2500",
            "6ad20a46a58a477681e407a6cdd69579",
            "2e50750598a2456993dfec188975cc1d",
            "c8b5d8725f5f4cc89c4c9aea73de5a3c",
            "feee2e207bfc4c7ca59062c3edba331d",
            "1ea6b2d4d73d454b8ed6003943b16bdc"
          ]
        },
        "id": "0vhIYgn2EhrP",
        "outputId": "94336f88-caf7-4c23-eeaf-6c2b61efc107"
      },
      "execution_count": 4,
      "outputs": [
        {
          "output_type": "display_data",
          "data": {
            "text/plain": [
              "Computing transition probabilities:   0%|          | 0/25638 [00:00<?, ?it/s]"
            ],
            "application/vnd.jupyter.widget-view+json": {
              "version_major": 2,
              "version_minor": 0,
              "model_id": "4669dee89ccb446db715bec043b51763"
            }
          },
          "metadata": {}
        },
        {
          "output_type": "stream",
          "name": "stdout",
          "text": [
            "Node2Vec Test AUC: 0.0026\n"
          ]
        }
      ]
    },
    {
      "cell_type": "code",
      "source": [
        "\n",
        "train_nodes = list(G_train.nodes())\n",
        "idx_map = {n:i for i,n in enumerate(train_nodes)}\n",
        "\n",
        "size = len(train_nodes)\n",
        "adj = np.zeros((size,size), dtype=np.float32)\n",
        "for u,v in G_train.edges():\n",
        "    adj[idx_map[u], idx_map[v]] = 1\n",
        "\n",
        "\n",
        "features = nn.Embedding(size, 64)\n",
        "torch_adj = torch.from_numpy(adj)\n",
        "\n",
        "class SimpleGNN(nn.Module):\n",
        "    def __init__(self, num_nodes, emb_dim=64):\n",
        "        super(SimpleGNN, self).__init__()\n",
        "        self.linear = nn.Linear(emb_dim, emb_dim)\n",
        "    def forward(self):\n",
        "        x = features.weight\n",
        "        # Basic message passing simulation\n",
        "        Ax = torch.mm(torch_adj, x)\n",
        "        hx = self.linear(Ax)\n",
        "        return hx\n",
        "\n",
        "model = SimpleGNN(size)\n",
        "optimizer = optim.Adam(model.parameters(), lr=0.01)\n",
        "criterion = nn.BCEWithLogitsLoss()\n",
        "\n",
        "# Training pairs\n",
        "pos_edges = np.array([[idx_map[u], idx_map[v]] for u,v in G_train.edges() if u in idx_map and v in idx_map])\n",
        "neg_edges = []\n",
        "while len(neg_edges) < len(pos_edges):\n",
        "    a, b = random.sample(train_nodes, 2)\n",
        "    if not G_train.has_edge(a,b):\n",
        "        neg_edges.append((idx_map[a], idx_map[b]))\n",
        "neg_edges = np.array(neg_edges)\n",
        "\n",
        "def batch_data(batch_size=1024):\n",
        "    idx = np.random.choice(len(pos_edges), batch_size//2)\n",
        "    batch_pos = pos_edges[idx]\n",
        "    idx_neg = np.random.choice(len(neg_edges), batch_size//2)\n",
        "    batch_neg = neg_edges[idx_neg]\n",
        "    X = np.vstack((batch_pos, batch_neg))\n",
        "    y = np.concatenate([np.ones(batch_size//2), np.zeros(batch_size//2)])\n",
        "    return torch.LongTensor(X), torch.FloatTensor(y)\n",
        "\n",
        "for epoch in range(5):\n",
        "    Xb, yb = batch_data()\n",
        "    optimizer.zero_grad()\n",
        "    embeddings = model()\n",
        "    # Score edges\n",
        "    e1 = embeddings[Xb[:,0]]\n",
        "    e2 = embeddings[Xb[:,1]]\n",
        "    logit = torch.sum(e1*e2, dim=1)\n",
        "    loss = criterion(logit, yb)\n",
        "    loss.backward()\n",
        "    optimizer.step()\n",
        "    if (epoch+1)%1==0:\n",
        "        print(f\"Epoch {epoch+1}, Loss={loss.item():.4f}\")"
      ],
      "metadata": {
        "colab": {
          "base_uri": "https://localhost:8080/"
        },
        "id": "d1Ghv2NRGdRW",
        "outputId": "7f33409d-be9a-4527-de5f-b3ba2466173f"
      },
      "execution_count": 5,
      "outputs": [
        {
          "output_type": "stream",
          "name": "stdout",
          "text": [
            "Epoch 1, Loss=9.7175\n",
            "Epoch 2, Loss=9.0548\n",
            "Epoch 3, Loss=7.7932\n",
            "Epoch 4, Loss=7.7552\n",
            "Epoch 5, Loss=7.4567\n"
          ]
        }
      ]
    },
    {
      "cell_type": "code",
      "source": [
        "\n",
        "with torch.no_grad():\n",
        "    final_emb = model()\n",
        "def gnn_score(u,v):\n",
        "    if (u in idx_map) and (v in idx_map):\n",
        "        ev = final_emb[idx_map[u]] * final_emb[idx_map[v]]\n",
        "        return torch.sum(ev).item()\n",
        "    return 0.0\n",
        "\n",
        "pos_test = random.sample(G_test_edges, min(5000, len(G_test_edges)))\n",
        "all_nodes = list(G_train.nodes())\n",
        "neg_test = []\n",
        "while len(neg_test) < len(pos_test):\n",
        "    a, b = random.sample(all_nodes, 2)\n",
        "    if not G_train.has_edge(a,b):\n",
        "        neg_test.append((a,b))\n",
        "\n",
        "y_true = [1]*len(pos_test) + [0]*len(neg_test)\n",
        "edges_test = pos_test + neg_test\n",
        "scores = [gnn_score(u,v) for (u,v) in edges_test]\n",
        "gnn_auc = roc_auc_score(y_true, scores)\n",
        "print(f\"GNN Test AUC: {gnn_auc:.4f}\")"
      ],
      "metadata": {
        "colab": {
          "base_uri": "https://localhost:8080/"
        },
        "id": "5IeKeA7KGgDC",
        "outputId": "2caf6b51-e7a2-407a-c27a-0cdf35c95970"
      },
      "execution_count": 6,
      "outputs": [
        {
          "output_type": "stream",
          "name": "stdout",
          "text": [
            "GNN Test AUC: 0.4622\n"
          ]
        }
      ]
    },
    {
      "cell_type": "code",
      "source": [
        "methods = ['Node2Vec','GNN']\n",
        "scores = [n2v_auc, gnn_auc]\n",
        "\n",
        "plt.bar(methods, scores, color=['blue','red'])\n",
        "plt.title(\"AUC Comparison\")\n",
        "plt.ylabel(\"AUC Score\")\n",
        "plt.show()\n",
        "\n",
        "print(f\"Node2Vec AUC: {n2v_auc:.4f}, GNN AUC: {gnn_auc:.4f}\")\n",
        "\n"
      ],
      "metadata": {
        "colab": {
          "base_uri": "https://localhost:8080/",
          "height": 469
        },
        "id": "qqDYPlbcGkAC",
        "outputId": "f9495772-bdf4-4d96-9288-aeeeabb2f143"
      },
      "execution_count": 7,
      "outputs": [
        {
          "output_type": "display_data",
          "data": {
            "text/plain": [
              "<Figure size 640x480 with 1 Axes>"
            ],
            "image/png": "[encoded data removed]"
          },
          "metadata": {}
        },
        {
          "output_type": "stream",
          "name": "stdout",
          "text": [
            "Node2Vec AUC: 0.0026, GNN AUC: 0.4622\n"
          ]
        }
      ]
    }
  ]
}